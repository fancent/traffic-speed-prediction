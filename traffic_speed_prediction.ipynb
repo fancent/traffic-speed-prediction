{
  "nbformat": 4,
  "nbformat_minor": 0,
  "metadata": {
    "colab": {
      "name": "traffic_speed_prediction.ipynb",
      "provenance": [],
      "collapsed_sections": [],
      "toc_visible": true
    },
    "kernelspec": {
      "name": "python3",
      "display_name": "Python 3"
    },
    "accelerator": "GPU"
  },
  "cells": [
    {
      "cell_type": "markdown",
      "metadata": {
        "id": "iNWtumVBVGbz"
      },
      "source": [
        "# Traffic speed Prediction\n",
        "\n",
        "kaggle page: [here](https://www.kaggle.com/c/msbd5001-fall2020)"
      ]
    },
    {
      "cell_type": "markdown",
      "metadata": {
        "id": "xmxWsRkeLT3O"
      },
      "source": [
        "# Install and import dependencies"
      ]
    },
    {
      "cell_type": "code",
      "metadata": {
        "id": "vcorItksHXwC"
      },
      "source": [
        "import pandas as pd\n",
        "import numpy as np\n",
        "import matplotlib.pyplot as plt\n",
        "import tensorflow as tf\n",
        "import xgboost as xgb\n",
        "from sklearn.metrics import mean_squared_error\n",
        "from datetime import datetime"
      ],
      "execution_count": 1,
      "outputs": []
    },
    {
      "cell_type": "markdown",
      "metadata": {
        "id": "8gchyC57Le_C"
      },
      "source": [
        "## Clean data\n"
      ]
    },
    {
      "cell_type": "code",
      "metadata": {
        "id": "ufp6pDgLIFDr",
        "colab": {
          "base_uri": "https://localhost:8080/"
        },
        "outputId": "df48f574-ba9b-4d9e-d56b-16e4169f2c65"
      },
      "source": [
        "g_drive = \"/content/drive/My Drive/HKUST/MSBD5001/\" # edit this according to your path\n",
        "df = pd.read_csv(g_drive + \"train.csv\")\n",
        "df['date'] = pd.to_datetime(df['date'], format='%d/%m/%Y %H:%M')\n",
        "df.pop('id')\n",
        "df.info()"
      ],
      "execution_count": 2,
      "outputs": [
        {
          "output_type": "stream",
          "text": [
            "<class 'pandas.core.frame.DataFrame'>\n",
            "RangeIndex: 14006 entries, 0 to 14005\n",
            "Data columns (total 2 columns):\n",
            " #   Column  Non-Null Count  Dtype         \n",
            "---  ------  --------------  -----         \n",
            " 0   date    14006 non-null  datetime64[ns]\n",
            " 1   speed   14006 non-null  float64       \n",
            "dtypes: datetime64[ns](1), float64(1)\n",
            "memory usage: 219.0 KB\n"
          ],
          "name": "stdout"
        }
      ]
    },
    {
      "cell_type": "markdown",
      "metadata": {
        "id": "QrlwOWi3QWUe"
      },
      "source": [
        "## Feature Engineering\n",
        "\n",
        "Parse Datetime as hour of the day (0-24), day of the week (1-7), week of year (0-52), and month of the year (1-12).\n",
        "\n",
        "Since we want hour 24 to be closer to 1 then 23, we can use Sine and cosine function to convert dayOfWeek, weekOfYear, hourOfDay, and monthOfYear into features with Cyclic Ordinal attributes"
      ]
    },
    {
      "cell_type": "markdown",
      "metadata": {
        "id": "PSE11SpZQuXk"
      },
      "source": [
        "### Weather"
      ]
    },
    {
      "cell_type": "code",
      "metadata": {
        "id": "tFW4ridhQwAX"
      },
      "source": [
        "hk_weather = pd.read_csv(g_drive + \"weather_data.csv\")"
      ],
      "execution_count": 3,
      "outputs": []
    },
    {
      "cell_type": "code",
      "metadata": {
        "colab": {
          "base_uri": "https://localhost:8080/",
          "height": 309
        },
        "id": "x-y5R697RCVV",
        "outputId": "4ed20393-6b3b-430f-d554-49e461d4a4d3"
      },
      "source": [
        "hk_weather['date'] = pd.to_datetime(hk_weather['date'], format='%m/%d/%Y %H:%M')\n",
        "hk_weather['rain'] = pd.to_numeric(hk_weather['rain'], errors='coerce')\n",
        "hk_weather.fillna(value=0., inplace=True)\n",
        "hk_weather.head()"
      ],
      "execution_count": 4,
      "outputs": [
        {
          "output_type": "execute_result",
          "data": {
            "text/html": [
              "<div>\n",
              "<style scoped>\n",
              "    .dataframe tbody tr th:only-of-type {\n",
              "        vertical-align: middle;\n",
              "    }\n",
              "\n",
              "    .dataframe tbody tr th {\n",
              "        vertical-align: top;\n",
              "    }\n",
              "\n",
              "    .dataframe thead th {\n",
              "        text-align: right;\n",
              "    }\n",
              "</style>\n",
              "<table border=\"1\" class=\"dataframe\">\n",
              "  <thead>\n",
              "    <tr style=\"text-align: right;\">\n",
              "      <th></th>\n",
              "      <th>date</th>\n",
              "      <th>pressure</th>\n",
              "      <th>max_temp</th>\n",
              "      <th>mean_temp</th>\n",
              "      <th>min_temp</th>\n",
              "      <th>dew</th>\n",
              "      <th>humidity</th>\n",
              "      <th>cloud</th>\n",
              "      <th>rain</th>\n",
              "      <th>sunshine</th>\n",
              "      <th>wind_direction</th>\n",
              "      <th>wind_speed</th>\n",
              "    </tr>\n",
              "  </thead>\n",
              "  <tbody>\n",
              "    <tr>\n",
              "      <th>0</th>\n",
              "      <td>2017-01-01</td>\n",
              "      <td>1021.7</td>\n",
              "      <td>20.8</td>\n",
              "      <td>19.2</td>\n",
              "      <td>18.4</td>\n",
              "      <td>15.6</td>\n",
              "      <td>80</td>\n",
              "      <td>72</td>\n",
              "      <td>0.0</td>\n",
              "      <td>4.6</td>\n",
              "      <td>60</td>\n",
              "      <td>34.2</td>\n",
              "    </tr>\n",
              "    <tr>\n",
              "      <th>1</th>\n",
              "      <td>2017-01-02</td>\n",
              "      <td>1020.2</td>\n",
              "      <td>23.3</td>\n",
              "      <td>20.2</td>\n",
              "      <td>18.4</td>\n",
              "      <td>16.7</td>\n",
              "      <td>81</td>\n",
              "      <td>28</td>\n",
              "      <td>0.0</td>\n",
              "      <td>9.3</td>\n",
              "      <td>70</td>\n",
              "      <td>17.6</td>\n",
              "    </tr>\n",
              "    <tr>\n",
              "      <th>2</th>\n",
              "      <td>2017-01-03</td>\n",
              "      <td>1019.8</td>\n",
              "      <td>21.3</td>\n",
              "      <td>20.0</td>\n",
              "      <td>18.9</td>\n",
              "      <td>17.1</td>\n",
              "      <td>83</td>\n",
              "      <td>56</td>\n",
              "      <td>0.0</td>\n",
              "      <td>3.8</td>\n",
              "      <td>70</td>\n",
              "      <td>26.1</td>\n",
              "    </tr>\n",
              "    <tr>\n",
              "      <th>3</th>\n",
              "      <td>2017-01-04</td>\n",
              "      <td>1018.7</td>\n",
              "      <td>21.7</td>\n",
              "      <td>19.9</td>\n",
              "      <td>18.7</td>\n",
              "      <td>16.3</td>\n",
              "      <td>80</td>\n",
              "      <td>51</td>\n",
              "      <td>0.0</td>\n",
              "      <td>6.3</td>\n",
              "      <td>70</td>\n",
              "      <td>27.7</td>\n",
              "    </tr>\n",
              "    <tr>\n",
              "      <th>4</th>\n",
              "      <td>2017-01-05</td>\n",
              "      <td>1016.9</td>\n",
              "      <td>23.4</td>\n",
              "      <td>21.1</td>\n",
              "      <td>18.9</td>\n",
              "      <td>17.5</td>\n",
              "      <td>80</td>\n",
              "      <td>61</td>\n",
              "      <td>0.0</td>\n",
              "      <td>1.7</td>\n",
              "      <td>40</td>\n",
              "      <td>14.3</td>\n",
              "    </tr>\n",
              "  </tbody>\n",
              "</table>\n",
              "</div>"
            ],
            "text/plain": [
              "        date  pressure  max_temp  ...  sunshine  wind_direction  wind_speed\n",
              "0 2017-01-01    1021.7      20.8  ...       4.6              60        34.2\n",
              "1 2017-01-02    1020.2      23.3  ...       9.3              70        17.6\n",
              "2 2017-01-03    1019.8      21.3  ...       3.8              70        26.1\n",
              "3 2017-01-04    1018.7      21.7  ...       6.3              70        27.7\n",
              "4 2017-01-05    1016.9      23.4  ...       1.7              40        14.3\n",
              "\n",
              "[5 rows x 12 columns]"
            ]
          },
          "metadata": {
            "tags": []
          },
          "execution_count": 4
        }
      ]
    },
    {
      "cell_type": "markdown",
      "metadata": {
        "id": "udQ5SF5gQo3c"
      },
      "source": [
        "### Holidays"
      ]
    },
    {
      "cell_type": "code",
      "metadata": {
        "id": "BpS0jRscJXu8"
      },
      "source": [
        "hk_holidays = {'holidays': [\n",
        "               '2/1/2017', '28/1/2017', '29/1/2017', '30/1/2017', '31/1/2017', \n",
        "               '4/4/2017', '14/4/2017', '15/4/2017', '17/4/2017', '1/5/2017', \n",
        "               '3/5/2017', '30/5/2017', '1/7/2017', '2/10/2017', '5/10/2017', \n",
        "               '28/10/2017', '25/12/2017', '26/12/2017', '1/1/2018', '16/2/2018',\n",
        "               '17/2/2018', '18/2/2018', '19/2/2018', '30/3/2018', '31/3/2018',\n",
        "               '2/4/2018', '5/4/2018', '1/5/2018', '22/5/2018', '18/6/2018',\n",
        "               '2/7/2018', '25/9/2018', '1/10/2018', '17/10/2018', '25/12/2018',\n",
        "               '26/12/2018'\n",
        "               ]}\n",
        "\n",
        "hk_holidays = pd.DataFrame(hk_holidays)\n",
        "hk_holidays = pd.to_datetime(hk_holidays['holidays'], format='%d/%m/%Y')"
      ],
      "execution_count": 5,
      "outputs": []
    },
    {
      "cell_type": "code",
      "metadata": {
        "id": "CrPh6sVOFe76"
      },
      "source": [
        "def minDays(x):\n",
        "    res = hk_holidays.dt.date.apply(lambda y: abs(y-x).days)\n",
        "    return min(res)\n"
      ],
      "execution_count": 6,
      "outputs": []
    },
    {
      "cell_type": "code",
      "metadata": {
        "id": "Na6tGcDechIb"
      },
      "source": [
        "def featureEngineering(data):\n",
        "    dateTime = data['date']\n",
        "    hourOfDay = dateTime.dt.hour\n",
        "    dayOfWeek = dateTime.dt.dayofweek\n",
        "    dayOfYear = dateTime.dt.dayofyear\n",
        "    weekOfYear = dateTime.dt.weekofyear\n",
        "    monthOfYear = dateTime.dt.month\n",
        "\n",
        "    data[\"hourOfDay\"] = hourOfDay\n",
        "    data[\"dayOfWeek\"] = dayOfWeek\n",
        "    data[\"dayOfyear\"] = dayOfYear\n",
        "    data[\"weekOfYear\"] = weekOfYear\n",
        "    data[\"monthOfYear\"] = monthOfYear\n",
        "\n",
        "    # Hour of day\n",
        "    data[\"hourOfDay_sin\"] = np.sin(2*np.pi*(hourOfDay/24))\n",
        "    data[\"hourOfDay_cos\"] = np.cos(2*np.pi*(hourOfDay/24))\n",
        "    # Day of week\n",
        "    data[\"dayOfWeek_sin\"] = np.sin(2*np.pi*(dayOfWeek/7))\n",
        "    data[\"dayOfWeek_cos\"] = np.cos(2*np.pi*(dayOfWeek/7))\n",
        "    # Day of year\n",
        "    data[\"dayOfYear_sin\"] = np.sin(2*np.pi*(dayOfYear/365))\n",
        "    data[\"dayOfYear_cos\"] = np.cos(2*np.pi*(dayOfYear/365))\n",
        "    # Week of year\n",
        "    data[\"weekOfYear_sin\"] = np.sin(2*np.pi*(weekOfYear/52))\n",
        "    data[\"weekOfYear_cos\"] = np.cos(2*np.pi*(weekOfYear/52))\n",
        "    # Month of year\n",
        "    data[\"monthOfYear_sin\"] = np.sin(2*np.pi*(monthOfYear/12))\n",
        "    data[\"monthOfYear_cos\"] = np.cos(2*np.pi*(monthOfYear/12))\n",
        "\n",
        "    data[\"isWeekend\"] = (dateTime.dt.dayofweek >= 5).astype(float)\n",
        "\n",
        "    data[\"isHoliday\"] = dateTime.dt.date.isin(hk_holidays.dt.date)\n",
        "    data[\"numDaysFromHoliday\"] = dateTime.dt.date.apply(minDays)\n",
        "    data = pd.merge_asof(data, hk_weather, on='date')\n",
        "    \n",
        "    data.pop('date')\n",
        "    return data"
      ],
      "execution_count": 7,
      "outputs": []
    },
    {
      "cell_type": "code",
      "metadata": {
        "id": "L5g9xY_yjRFV"
      },
      "source": [
        "# uncomment to understand the purpose of sine and consine transformation\n",
        "# df.sample(500).plot.scatter('hourOfDay_sin','hourOfDay_cos').set_aspect('equal');\n",
        "# df.sample(500).plot.scatter('dayOfWeek_sin','dayOfWeek_cos').set_aspect('equal');\n",
        "# df.sample(500).plot.scatter('weekOfYear_sin','weekOfYear_cos').set_aspect('equal');\n",
        "# df.sample(500).plot.scatter('monthOfYear_sin','monthOfYear_cos').set_aspect('equal');"
      ],
      "execution_count": null,
      "outputs": []
    },
    {
      "cell_type": "markdown",
      "metadata": {
        "id": "fFpAMo04dmhY"
      },
      "source": [
        "# Preparing training data and validation data"
      ]
    },
    {
      "cell_type": "code",
      "metadata": {
        "id": "HLj9ZcoWMQYH",
        "colab": {
          "base_uri": "https://localhost:8080/"
        },
        "outputId": "b8180344-a36a-4c07-f2bc-089744ae1d6c"
      },
      "source": [
        "df = featureEngineering(df)"
      ],
      "execution_count": 8,
      "outputs": [
        {
          "output_type": "stream",
          "text": [
            "/usr/local/lib/python3.6/dist-packages/ipykernel_launcher.py:6: FutureWarning: Series.dt.weekofyear and Series.dt.week have been deprecated.  Please use Series.dt.isocalendar().week instead.\n",
            "  \n"
          ],
          "name": "stderr"
        }
      ]
    },
    {
      "cell_type": "code",
      "metadata": {
        "id": "sq69gmhldl6F"
      },
      "source": [
        "def getDataSet(df, label='speed'):\n",
        "    columns = list(df.columns)\n",
        "    columns.remove(label)\n",
        "    X = df[columns]\n",
        "    y = df[label]\n",
        "    return X,y"
      ],
      "execution_count": 9,
      "outputs": []
    },
    {
      "cell_type": "code",
      "metadata": {
        "id": "yK_6EQjxFy18"
      },
      "source": [
        "# use all data as training\n",
        "\n",
        "train_data, train_label = getDataSet(df)"
      ],
      "execution_count": 10,
      "outputs": []
    },
    {
      "cell_type": "markdown",
      "metadata": {
        "id": "NIHX9rp0gHn_"
      },
      "source": [
        "# XGBoost"
      ]
    },
    {
      "cell_type": "markdown",
      "metadata": {
        "id": "zs78uRq1vGHL"
      },
      "source": [
        "best model"
      ]
    },
    {
      "cell_type": "code",
      "metadata": {
        "id": "40QNK5tXW_3S"
      },
      "source": [
        "dtrain = xgb.DMatrix(train_data, train_label)\n",
        "\n",
        "xgb_params = {\n",
        "    'eta': 0.0175,\n",
        "    'max_depth': 9,\n",
        "    'subsample': 0.80,\n",
        "    'min_child_weight': 5,\n",
        "    'objective': 'reg:squarederror',\n",
        "    'eval_metric': 'mae',\n",
        "    'lambda': 0.8,   \n",
        "    'alpha': 0.4, \n",
        "    'base_score': np.mean(train_label),\n",
        "    'gpu_id': 0,\n",
        "    'tree_method': 'gpu_hist',\n",
        "    'num_parallel_tree': 3\n",
        "}\n",
        "\n",
        "num_boost_rounds = 841\n",
        "model = xgb.train(\n",
        "    dict(xgb_params, silent=1), \n",
        "    dtrain, \n",
        "    num_boost_round=num_boost_rounds,\n",
        ")"
      ],
      "execution_count": 16,
      "outputs": []
    },
    {
      "cell_type": "code",
      "metadata": {
        "id": "mqD2zUPYF9Y0"
      },
      "source": [
        "dtrain = xgb.DMatrix(train_data)\n",
        "\n",
        "train_mse = mean_squared_error(train_label, model.predict(dtrain))\n",
        "print(\"training mse: \", train_mse)"
      ],
      "execution_count": null,
      "outputs": []
    },
    {
      "cell_type": "markdown",
      "metadata": {
        "id": "hkTo0KkaOtWR"
      },
      "source": [
        "# Predicting on test data"
      ]
    },
    {
      "cell_type": "code",
      "metadata": {
        "id": "9rO-BUrbOv5Y",
        "colab": {
          "base_uri": "https://localhost:8080/"
        },
        "outputId": "eee31557-c7fb-464a-d9d1-38f5336c7571"
      },
      "source": [
        "df_test = pd.read_csv(g_drive + \"test.csv\")\n",
        "df_test['date'] = pd.to_datetime(df_test['date'], format='%d/%m/%Y %H:%M')\n",
        "id = df_test.pop('id')\n",
        "\n",
        "df_test = featureEngineering(df_test)"
      ],
      "execution_count": 13,
      "outputs": [
        {
          "output_type": "stream",
          "text": [
            "/usr/local/lib/python3.6/dist-packages/ipykernel_launcher.py:6: FutureWarning: Series.dt.weekofyear and Series.dt.week have been deprecated.  Please use Series.dt.isocalendar().week instead.\n",
            "  \n"
          ],
          "name": "stderr"
        }
      ]
    },
    {
      "cell_type": "code",
      "metadata": {
        "id": "GJ70FnWpaGYI"
      },
      "source": [
        "results = pd.DataFrame(id)\n",
        "dtest = xgb.DMatrix(df_test)\n",
        "results['speed'] = model.predict(dtest)\n",
        "results.to_csv(g_drive + 'sub{}.csv'.format(datetime.now().strftime('%Y%m%d_%H%M%S')), index=False)"
      ],
      "execution_count": 14,
      "outputs": []
    }
  ]
}